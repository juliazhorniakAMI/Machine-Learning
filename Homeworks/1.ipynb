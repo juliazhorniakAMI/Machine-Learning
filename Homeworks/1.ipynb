{
 "cells": [
  {
   "cell_type": "code",
   "execution_count": 46,
   "id": "b6ce2a09",
   "metadata": {},
   "outputs": [
    {
     "name": "stdout",
     "output_type": "stream",
     "text": [
      "0.12699509999993097 ms\n"
     ]
    }
   ],
   "source": [
    "import numpy as np\n",
    "from timeit import timeit\n",
    "A = np.random.random((20,20))\n",
    "B=  np.random.random((20,20))\n",
    "result = np.zeros((20,20))\n",
    "\n",
    "def multiplymatrices(A,B): \n",
    "    for i in range(len(A)): \n",
    "        for j in range(len(B[0])): \n",
    "            for k in range(len(B)): \n",
    "                result[i][j] += A[i][k] * B[k][j]\n",
    "                \n",
    "# find average of 10 runs of numpy’s function   \n",
    "time = timeit(\n",
    "  lambda: multiplymatrices(A,B),\n",
    " number=10\n",
    ")\n",
    "print(f\"{time} ms\".format(time * 1000/ 10))\n"
   ]
  },
  {
   "cell_type": "code",
   "execution_count": 47,
   "id": "d65dd52b",
   "metadata": {},
   "outputs": [
    {
     "name": "stdout",
     "output_type": "stream",
     "text": [
      "0.0022214999999050633 ms\n"
     ]
    }
   ],
   "source": [
    "time = timeit(\n",
    "  lambda: np.dot(A, B),\n",
    " number=10\n",
    ")\n",
    "print(f\"{time} ms\".format(time * 1000/ 10))\n"
   ]
  },
  {
   "cell_type": "code",
   "execution_count": null,
   "id": "2741436c",
   "metadata": {},
   "outputs": [],
   "source": []
  },
  {
   "cell_type": "code",
   "execution_count": null,
   "id": "200c78ce",
   "metadata": {},
   "outputs": [],
   "source": []
  }
 ],
 "metadata": {
  "kernelspec": {
   "display_name": "Python 3 (ipykernel)",
   "language": "python",
   "name": "python3"
  },
  "language_info": {
   "codemirror_mode": {
    "name": "ipython",
    "version": 3
   },
   "file_extension": ".py",
   "mimetype": "text/x-python",
   "name": "python",
   "nbconvert_exporter": "python",
   "pygments_lexer": "ipython3",
   "version": "3.9.7"
  }
 },
 "nbformat": 4,
 "nbformat_minor": 5
}
