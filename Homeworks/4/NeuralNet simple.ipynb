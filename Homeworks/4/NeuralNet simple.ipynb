{
 "cells": [
  {
   "cell_type": "markdown",
   "metadata": {},
   "source": [
    "В цій практичній роботі ми спробуємо реалізувати нейронну мережу з двох шарів (прихований і вихідний). Запропонований підхід стане заготовкою для реалізації наступних оптимізацій: MBGD, ADAM та регуляризації. \n",
    "\n",
    "Сьогодні ж вам пропонується додати до цього класу підтримку довільної кількості шарів та нейронів в них (наприклад, передавати їх параметром в конструктор, як це робиться в MLPClassifier за допомогою hidden_layer_sizes). Також потрібно передбачити можливість ранньої зупинки ітераційного процесу, якщо значення штрафної функції не покращуватиметься протягом певної кількості ітерацій. Наприклад, якщо протягом $k$ ітерацій штрафна функція за модулем не стане меншою, ніж на поточному кроці."
   ]
  },
  {
   "cell_type": "code",
   "execution_count": 31,
   "metadata": {},
   "outputs": [],
   "source": [
    "import numpy as np\n",
    "import pandas as pd\n",
    "from sklearn.model_selection import train_test_split\n",
    "from mpl_toolkits.mplot3d import Axes3D\n",
    "import matplotlib.pyplot as plt\n",
    "\n",
    "from matplotlib.colors import ListedColormap\n",
    "cm_bright = ListedColormap(['#FF0000', '#0000FF'])\n",
    "%matplotlib inline\n",
    "from sklearn.metrics import accuracy_score\n",
    "\n",
    "import sklearn.linear_model"
   ]
  },
  {
   "cell_type": "code",
   "execution_count": 32,
   "metadata": {},
   "outputs": [],
   "source": [
    "def plot_surface(cls, x_1, x_2, ax=None, threshold=0.5, contourf=False):\n",
    "    xx1, xx2 = np.meshgrid(np.linspace(x_1.min(), x_1.max(), 100), \n",
    "                           np.linspace(x_2.min(), x_2.max(), 100))\n",
    "\n",
    "    X_pred = np.c_[xx1.ravel(), xx2.ravel()]\n",
    "    pred = cls.predict_proba(X_pred)[:, 0]\n",
    "    Z = pred.reshape((100, 100))\n",
    "    if ax is None:\n",
    "        ax = plt.gca()\n",
    "    ax.contour(xx1, xx2, Z, levels=[threshold], colors='black')\n",
    "    ax.set_xlim((x_1.min(), x_1.max()))\n",
    "    ax.set_ylim((x_2.min(), x_2.max()))"
   ]
  },
  {
   "cell_type": "code",
   "execution_count": 33,
   "metadata": {},
   "outputs": [],
   "source": [
    "def plot_data(X, y):\n",
    "    ax = plt.gca()\n",
    "    ax.scatter(X[:,0], X[:,1], c=(y == 1), cmap=cm_bright)"
   ]
  },
  {
   "cell_type": "code",
   "execution_count": 146,
   "metadata": {},
   "outputs": [],
   "source": [
    "class NeuralNet:\n",
    "    \"\"\"\n",
    "    NN for binary classification\n",
    "    Attributes:\n",
    "    ...\n",
    "    \"\"\"\n",
    "    def __init__(self, normalize = True, learning_rate = 0.01, num_iter = 30000,\n",
    "                 hidden_layer_sizes =(40,30,20),not_improve_iters =1000,tol =1e-10):\n",
    "        self.learning_rate = learning_rate\n",
    "        self.num_iter = num_iter\n",
    "        self.normalize = normalize\n",
    "        \n",
    "        self.hidden_layer_sizes =hidden_layer_sizes;\n",
    "        self.layers_count =len(hidden_layer_sizes);\n",
    "        \n",
    "        self.not_improve_iters =not_improve_iters;\n",
    "        self.tol =tol;\n",
    "    \n",
    "    def __normalize(self, X, mean = None, std = None):\n",
    "        \"\"\"\n",
    "        Зверніть увагу, що нормалізація вхідних даних є дуже важливою для швидкодії нейронних мереж.\n",
    "        \"\"\"\n",
    "        n = X.shape[0]\n",
    "        m = mean\n",
    "        if m is None:\n",
    "            m = np.mean(X, axis=1).reshape((n, 1))\n",
    "        s = std\n",
    "        if s is None:\n",
    "            s = np.std(X, axis=1).reshape((n, 1))\n",
    "        X_new = (X - m) / s**2\n",
    "        return X_new, m, s\n",
    "\n",
    "    def __sigmoid(self, Z):\n",
    "        \"\"\"\n",
    "        В наступних практичних потрібно буде додати підтримку й інших активаційних функцій - це один з гіперпараметрів. \n",
    "        Їх можна вибирати для всіх шарів одночасно або мати різні активаційні функції на кожному з них.\n",
    "        \"\"\"\n",
    "        return 1 / (1 + np.exp(-Z))\n",
    "    \n",
    "    def __initialize_parameters(self, n_x, n_arr):\n",
    "        layers =len(n_arr);\n",
    "        W_arr =[];\n",
    "        b_arr =[];\n",
    "        W_first = np.random.randn(n_arr[0], n_x) * 0.01;\n",
    "        b_first = np.zeros((n_arr[0], 1));\n",
    "        W_arr.append(W_first);\n",
    "        b_arr.append(b_first);\n",
    "        for n_l in range(1,layers):\n",
    "            W_temp =np.random.randn(n_arr[n_l], n_arr[n_l-1]) * 0.01;\n",
    "            b_temp = np.zeros((n_arr[n_l], 1));\n",
    "            W_arr.append(W_temp);\n",
    "            b_arr.append(b_temp);\n",
    "        W_last =np.random.randn(1, n_arr[layers-1]) * 0.01\n",
    "        b_last = 0;      \n",
    "        W_arr.append(W_last);\n",
    "        b_arr.append(b_last); \n",
    "        self.parameters = {\"W_arr\" : W_arr, \"b_arr\" : b_arr}\n",
    "       \n",
    "    def __forward_propagation(self, X):\n",
    "        \n",
    "        W_arr =self.parameters[\"W_arr\"]\n",
    "        b_arr = self.parameters[\"b_arr\"]   \n",
    "        W_first = W_arr[0];\n",
    "        b_first = b_arr[0];     \n",
    "        W_last =W_arr[len(W_arr)-1];\n",
    "        b_last =b_arr[len(b_arr)-1];    \n",
    "        Z_arr =[];\n",
    "        A_arr =[];\n",
    "        Z_first =np.dot(W_first,X)+b_first;\n",
    "        A_first = self.__sigmoid(Z_first);  \n",
    "        Z_arr.append(Z_first);\n",
    "        A_arr.append(A_first); \n",
    "        layers = self.layers_count;\n",
    "        for l in range(1,layers+1):\n",
    "            Z_temp = np.dot(W_arr[l],A_arr[l-1])+b_arr[l];\n",
    "            A_temp = self.__sigmoid(Z_temp);\n",
    "            Z_arr.append(Z_temp);\n",
    "            A_arr.append(A_temp);\n",
    "        cache =(W_arr,b_arr,Z_arr,A_arr); \n",
    "        return A_arr[-1], cache\n",
    "    \n",
    "    def compute_cost(self, A, Y):\n",
    "        m = Y.shape[1]\n",
    "        res = Y * np.log(A) + (1 - Y) * np.log(1 - A)\n",
    "        J = -(1 / m) * np.sum(res)\n",
    "        return J\n",
    "        \n",
    "    def __backward_propagation(self, X, Y, cache):\n",
    "        m = X.shape[1]\n",
    "        n = X.shape[0]\n",
    "        (W_arr,b_arr,Z_arr,A_arr) = cache  \n",
    "        dZ_arr=[];\n",
    "        dW_arr =[];\n",
    "        dA_arr=[];\n",
    "        db_arr =[];  \n",
    "        dZ_last = A_arr[-1] -Y;\n",
    "        dW_last = 1. / m * np.dot(dZ_last, A_arr[-2].T);\n",
    "        db_last =1. / m * np.sum(dZ_last, axis = 1, keepdims = True);\n",
    "        dA_last =np.dot(W_arr[-1].T,dZ_last);    \n",
    "        dZ_arr.insert(0,dZ_last);\n",
    "        dW_arr.insert(0,dW_last);\n",
    "        db_arr.insert(0,db_last);\n",
    "        dA_arr.insert(0,dA_last);\n",
    "        for l_inv in range(len(W_arr)-2,0,-1):\n",
    "            \n",
    "            dZ_temp =np.multiply(dA_arr[0], np.multiply(A_arr[l_inv], 1 - A_arr[l_inv])); \n",
    "            dW_temp =1. / m * np.dot(dZ_temp, A_arr[l_inv-1].T);   \n",
    "            db_temp =1. / m * np.sum(dZ_temp, axis = 1, keepdims = True);\n",
    "            dA_temp =np.dot(W_arr[l_inv].T,dZ_temp);\n",
    "            \n",
    "            dZ_arr.insert(0,dZ_temp);\n",
    "            dW_arr.insert(0,dW_temp);\n",
    "            dA_arr.insert(0,dA_temp);\n",
    "            db_arr.insert(0,db_temp);\n",
    "        dA_first =dA_arr[0];\n",
    "        dZ_first = np.multiply(dA_first, np.multiply(A_arr[0], 1 - A_arr[0]));\n",
    "        dW_first = 1. / m * np.dot(dZ_first, X.T)\n",
    "        db_first =1. / m * np.sum(dZ_first, axis = 1, keepdims = True)\n",
    "        \n",
    "        dZ_arr.insert(0,dZ_first); \n",
    "        dW_arr.insert(0,dW_first);\n",
    "        db_arr.insert(0,db_first);\n",
    "        grads ={\"dZ_arr\":dZ_arr,\"dW_arr\":dW_arr,\"db_arr\":db_arr}\n",
    "        return grads\n",
    "    \n",
    "    def __update_parameters(self, grads):\n",
    "        W_arr =self.parameters[\"W_arr\"];\n",
    "        b_arr =self.parameters[\"b_arr\"];  \n",
    "        dW_arr =grads[\"dW_arr\"];\n",
    "        db_arr =grads[\"db_arr\"];  \n",
    "        W_new_arr =W_arr.copy();\n",
    "        b_new_arr = b_arr.copy();\n",
    "        for l in range(0,len(W_arr)):\n",
    "            W_new_arr[l]-=self.learning_rate * dW_arr[l];\n",
    "            b_new_arr[l]-=self.learning_rate * db_arr[l];  \n",
    "        self.parameters[\"W_arr\"] = W_new_arr;\n",
    "        self.parameters[\"b_arr\"] = b_new_arr;\n",
    "       \n",
    "        \n",
    "    def fit(self, X_vert, Y_vert, print_cost = True):\n",
    "        \n",
    "        X, Y = X_vert.T, Y_vert.T\n",
    "        \n",
    "        if self.normalize:\n",
    "            X, self.__mean, self.__std = self.__normalize(X)\n",
    "        \n",
    "        costs = []\n",
    "        improve_costs =[];\n",
    "        m = X.shape[1]\n",
    "        n_x = X.shape[0]\n",
    "        \n",
    "        self.__initialize_parameters(n_x,self.hidden_layer_sizes)\n",
    "\n",
    "        for i in range(self.num_iter):\n",
    "            A, cache = self.__forward_propagation(X)\n",
    "            \n",
    "            cost = self.compute_cost(A, Y)\n",
    "\n",
    "            grads = self.__backward_propagation(X, Y, cache)\n",
    "\n",
    "            self.__update_parameters(grads)\n",
    "            \n",
    "            if i%self.not_improve_iters ==0:\n",
    "                improve_costs.append(cost);\n",
    "                imp_len =len(improve_costs);\n",
    "                if imp_len >2:\n",
    "                    if abs(improve_costs[imp_len-1] - improve_costs[imp_len-2]) < self.tol:\n",
    "                        return;\n",
    "            if print_cost and i % 1000 == 0:\n",
    "                print(\"{}-th iteration: {}\".format(i, cost))\n",
    "\n",
    "            if i % 1000 == 0:\n",
    "                costs.append(cost)\n",
    "        if print_cost:\n",
    "            plt.plot(costs)\n",
    "            plt.ylabel(\"Cost\")\n",
    "            plt.xlabel(\"Iteration, *1000\")\n",
    "            plt.show()\n",
    "    \n",
    "    def predict_proba(self, X_vert):\n",
    "        X = X_vert.T\n",
    "        if self.normalize:\n",
    "            X, _, _ = self.__normalize(X, self.__mean, self.__std)\n",
    "        \n",
    "        probs = self.__forward_propagation(X)[0]\n",
    "        \n",
    "        return np.column_stack((probs.T, 1 - probs.T))\n",
    "    \n",
    "    def predict(self, X_vert):\n",
    "        positive_probs = self.predict_proba(X_vert)[:, 0]\n",
    "        return (positive_probs >= 0.5).astype(int)  "
   ]
  },
  {
   "cell_type": "markdown",
   "metadata": {},
   "source": [
    "Спочатку спробуйте цей клас на одній задачі, а потім на іншій."
   ]
  },
  {
   "cell_type": "code",
   "execution_count": 147,
   "metadata": {},
   "outputs": [],
   "source": [
    "#data_columns = [\"exam1\", \"exam2\"]\n",
    "#target_column = \"submitted\"\n",
    "#df = pd.read_csv(\"sats.csv\")\n",
    "#X, Y = df[data_columns].values, df[target_column].reshape((df.shape[0], 1))\n",
    "#print('Training set: X={}, y={}'.format(X.shape, Y.shape))"
   ]
  },
  {
   "cell_type": "code",
   "execution_count": 148,
   "metadata": {},
   "outputs": [
    {
     "name": "stdout",
     "output_type": "stream",
     "text": [
      "Training set: X=(118, 2), y=(118,)\n"
     ]
    }
   ],
   "source": [
    "data_columns = [\"test1\", \"test2\"]\n",
    "target_column = \"passed\"\n",
    "df = pd.read_csv(\"tests.csv\")\n",
    "X, Y = df[data_columns].values, df[target_column]\n",
    "print('Training set: X={}, y={}'.format(X.shape, Y.shape))"
   ]
  },
  {
   "cell_type": "code",
   "execution_count": 149,
   "metadata": {},
   "outputs": [
    {
     "data": {
      "image/png": "[encoded data removed]",
      "text/plain": [
       "<Figure size 432x288 with 1 Axes>"
      ]
     },
     "metadata": {
      "needs_background": "light"
     },
     "output_type": "display_data"
    }
   ],
   "source": [
    "plot_data(X, Y)"
   ]
  },
  {
   "cell_type": "code",
   "execution_count": 150,
   "metadata": {},
   "outputs": [],
   "source": [
    "cls = NeuralNet(normalize = True, learning_rate = 0.01, num_iter = 10001,hidden_layer_sizes = (2,),not_improve_iters=10000,tol=1e-8)"
   ]
  },
  {
   "cell_type": "code",
   "execution_count": 151,
   "metadata": {},
   "outputs": [
    {
     "name": "stdout",
     "output_type": "stream",
     "text": [
      "0-th iteration: 0.6931618895350937\n",
      "1000-th iteration: 0.6929941112398984\n",
      "2000-th iteration: 0.6929895553590509\n",
      "3000-th iteration: 0.6929836208642541\n",
      "4000-th iteration: 0.6929755796931943\n",
      "5000-th iteration: 0.6929645819109175\n",
      "6000-th iteration: 0.6929494910109737\n",
      "7000-th iteration: 0.6929287947431397\n",
      "8000-th iteration: 0.6929005081583386\n",
      "9000-th iteration: 0.6928620844790848\n",
      "10000-th iteration: 0.6928103657780209\n"
     ]
    },
    {
     "data": {
      "image/png": "[encoded data removed]",
      "text/plain": [
       "<Figure size 432x288 with 1 Axes>"
      ]
     },
     "metadata": {
      "needs_background": "light"
     },
     "output_type": "display_data"
    }
   ],
   "source": [
    "cls.fit(X, Y.values.reshape((df.shape[0], 1)))"
   ]
  },
  {
   "cell_type": "code",
   "execution_count": 152,
   "metadata": {},
   "outputs": [
    {
     "name": "stdout",
     "output_type": "stream",
     "text": [
      "{'W_arr': [array([[ 0.10883712, -0.00929346],\n",
      "       [ 0.01811403,  0.00628114]]), array([[-0.09604516, -0.00813138]])], 'b_arr': [array([[-1.56959260e-03],\n",
      "       [-6.87641884e-05]]), array([[0.01521669]])]}\n"
     ]
    }
   ],
   "source": [
    "print(cls.parameters)"
   ]
  },
  {
   "cell_type": "code",
   "execution_count": 153,
   "metadata": {},
   "outputs": [
    {
     "data": {
      "text/plain": [
       "array([[0.4895423 , 0.5104577 ],\n",
       "       [0.49014796, 0.50985204],\n",
       "       [0.49298302, 0.50701698],\n",
       "       [0.49138157, 0.50861843],\n",
       "       [0.49193006, 0.50806994],\n",
       "       [0.49167307, 0.50832693],\n",
       "       [0.49264417, 0.50735583],\n",
       "       [0.48866636, 0.51133364],\n",
       "       [0.48919491, 0.51080509],\n",
       "       [0.49172124, 0.50827876],\n",
       "       [0.49070297, 0.50929703],\n",
       "       [0.49191352, 0.50808648],\n",
       "       [0.48983889, 0.51016111],\n",
       "       [0.49093093, 0.50906907],\n",
       "       [0.49122723, 0.50877277],\n",
       "       [0.48916436, 0.51083564],\n",
       "       [0.49265769, 0.50734231],\n",
       "       [0.48913751, 0.51086249],\n",
       "       [0.49078041, 0.50921959],\n",
       "       [0.48997677, 0.51002323],\n",
       "       [0.49126452, 0.50873548],\n",
       "       [0.49198583, 0.50801417],\n",
       "       [0.49235858, 0.50764142],\n",
       "       [0.49111823, 0.50888177],\n",
       "       [0.49264709, 0.50735291],\n",
       "       [0.49149993, 0.50850007],\n",
       "       [0.49253484, 0.50746516],\n",
       "       [0.49211117, 0.50788883],\n",
       "       [0.49038736, 0.50961264],\n",
       "       [0.49020227, 0.50979773],\n",
       "       [0.49064512, 0.50935488],\n",
       "       [0.48975305, 0.51024695],\n",
       "       [0.49250299, 0.50749701],\n",
       "       [0.49212931, 0.50787069],\n",
       "       [0.48935615, 0.51064385],\n",
       "       [0.49213174, 0.50786826],\n",
       "       [0.49016942, 0.50983058],\n",
       "       [0.48846132, 0.51153868],\n",
       "       [0.49100063, 0.50899937],\n",
       "       [0.48938659, 0.51061341],\n",
       "       [0.49059063, 0.50940937],\n",
       "       [0.49123978, 0.50876022],\n",
       "       [0.49142032, 0.50857968],\n",
       "       [0.4925155 , 0.5074845 ],\n",
       "       [0.48894448, 0.51105552],\n",
       "       [0.49201492, 0.50798508],\n",
       "       [0.49283654, 0.50716346],\n",
       "       [0.48882298, 0.51117702],\n",
       "       [0.48921591, 0.51078409],\n",
       "       [0.49318284, 0.50681716],\n",
       "       [0.49119148, 0.50880852],\n",
       "       [0.48855136, 0.51144864],\n",
       "       [0.49194709, 0.50805291],\n",
       "       [0.49034017, 0.50965983],\n",
       "       [0.4921384 , 0.5078616 ],\n",
       "       [0.49244636, 0.50755364],\n",
       "       [0.49243674, 0.50756326],\n",
       "       [0.48952482, 0.51047518],\n",
       "       [0.48984317, 0.51015683],\n",
       "       [0.489565  , 0.510435  ],\n",
       "       [0.48937558, 0.51062442],\n",
       "       [0.49055998, 0.50944002],\n",
       "       [0.49134222, 0.50865778],\n",
       "       [0.48904011, 0.51095989],\n",
       "       [0.49104181, 0.50895819],\n",
       "       [0.49090349, 0.50909651],\n",
       "       [0.49284862, 0.50715138],\n",
       "       [0.49278435, 0.50721565],\n",
       "       [0.48939222, 0.51060778],\n",
       "       [0.48849375, 0.51150625],\n",
       "       [0.49150099, 0.50849901],\n",
       "       [0.49181063, 0.50818937],\n",
       "       [0.4895641 , 0.5104359 ],\n",
       "       [0.48914186, 0.51085814],\n",
       "       [0.49044701, 0.50955299],\n",
       "       [0.49153707, 0.50846293],\n",
       "       [0.48888915, 0.51111085],\n",
       "       [0.49185246, 0.50814754],\n",
       "       [0.48898961, 0.51101039],\n",
       "       [0.49150329, 0.50849671],\n",
       "       [0.48968556, 0.51031444],\n",
       "       [0.49138762, 0.50861238],\n",
       "       [0.49150134, 0.50849866],\n",
       "       [0.49024287, 0.50975713],\n",
       "       [0.49077889, 0.50922111],\n",
       "       [0.49259699, 0.50740301],\n",
       "       [0.49091756, 0.50908244],\n",
       "       [0.49240339, 0.50759661],\n",
       "       [0.49231759, 0.50768241],\n",
       "       [0.48807066, 0.51192934],\n",
       "       [0.49045138, 0.50954862],\n",
       "       [0.49149525, 0.50850475],\n",
       "       [0.49006696, 0.50993304],\n",
       "       [0.48839752, 0.51160248],\n",
       "       [0.48939191, 0.51060809],\n",
       "       [0.4905244 , 0.5094756 ],\n",
       "       [0.491511  , 0.508489  ],\n",
       "       [0.49216745, 0.50783255],\n",
       "       [0.48874909, 0.51125091],\n",
       "       [0.49169397, 0.50830603],\n",
       "       [0.49129031, 0.50870969],\n",
       "       [0.48966427, 0.51033573],\n",
       "       [0.49021735, 0.50978265],\n",
       "       [0.48999302, 0.51000698],\n",
       "       [0.48835128, 0.51164872],\n",
       "       [0.49161831, 0.50838169],\n",
       "       [0.49290679, 0.50709321],\n",
       "       [0.49114053, 0.50885947],\n",
       "       [0.48924565, 0.51075435],\n",
       "       [0.4904012 , 0.5095988 ],\n",
       "       [0.48858263, 0.51141737],\n",
       "       [0.49237723, 0.50762277],\n",
       "       [0.48857517, 0.51142483],\n",
       "       [0.49176167, 0.50823833],\n",
       "       [0.49117725, 0.50882275],\n",
       "       [0.48940522, 0.51059478],\n",
       "       [0.49198798, 0.50801202],\n",
       "       [0.49293952, 0.50706048]])"
      ]
     },
     "execution_count": 153,
     "metadata": {},
     "output_type": "execute_result"
    }
   ],
   "source": [
    "Y_prob = cls.predict_proba(X)\n",
    "Y_prob"
   ]
  },
  {
   "cell_type": "code",
   "execution_count": 154,
   "metadata": {},
   "outputs": [
    {
     "data": {
      "text/plain": [
       "array([0, 0, 0, 0, 0, 0, 0, 0, 0, 0, 0, 0, 0, 0, 0, 0, 0, 0, 0, 0, 0, 0,\n",
       "       0, 0, 0, 0, 0, 0, 0, 0, 0, 0, 0, 0, 0, 0, 0, 0, 0, 0, 0, 0, 0, 0,\n",
       "       0, 0, 0, 0, 0, 0, 0, 0, 0, 0, 0, 0, 0, 0, 0, 0, 0, 0, 0, 0, 0, 0,\n",
       "       0, 0, 0, 0, 0, 0, 0, 0, 0, 0, 0, 0, 0, 0, 0, 0, 0, 0, 0, 0, 0, 0,\n",
       "       0, 0, 0, 0, 0, 0, 0, 0, 0, 0, 0, 0, 0, 0, 0, 0, 0, 0, 0, 0, 0, 0,\n",
       "       0, 0, 0, 0, 0, 0, 0, 0])"
      ]
     },
     "execution_count": 154,
     "metadata": {},
     "output_type": "execute_result"
    }
   ],
   "source": [
    "Y_hat = cls.predict(X)\n",
    "Y_hat"
   ]
  },
  {
   "cell_type": "code",
   "execution_count": 155,
   "metadata": {},
   "outputs": [
    {
     "data": {
      "text/plain": [
       "0.5084745762711864"
      ]
     },
     "execution_count": 155,
     "metadata": {},
     "output_type": "execute_result"
    }
   ],
   "source": [
    "accuracy_score(Y, Y_hat)"
   ]
  },
  {
   "cell_type": "code",
   "execution_count": 156,
   "metadata": {},
   "outputs": [
    {
     "name": "stderr",
     "output_type": "stream",
     "text": [
      "C:\\Users\\MacBook\\AppData\\Local\\Temp/ipykernel_16660/1714921773.py:10: UserWarning: No contour levels were found within the data range.\n",
      "  ax.contour(xx1, xx2, Z, levels=[threshold], colors='black')\n"
     ]
    },
    {
     "data": {
      "image/png": "[encoded data removed]",
      "text/plain": [
       "<Figure size 432x288 with 1 Axes>"
      ]
     },
     "metadata": {
      "needs_background": "light"
     },
     "output_type": "display_data"
    }
   ],
   "source": [
    "plot_data(X, Y)\n",
    "plot_surface(cls, X[:, 0], X[:, 1])"
   ]
  },
  {
   "cell_type": "markdown",
   "metadata": {},
   "source": [
    "Зверніть увагу на границю прийняття рішення. Модель старається побудувати складну криву, що може свідчити про її перетренування. Порівняйте отримані результати з класом з sklearn. Спробуйте додати нові шари для нашого класу та порівняти результати тоді. Поекспериментуйте з гіперпараметрами для обох класів."
   ]
  },
  {
   "cell_type": "code",
   "execution_count": 157,
   "metadata": {},
   "outputs": [],
   "source": [
    "from sklearn.neural_network import MLPClassifier\n",
    "clf = MLPClassifier(hidden_layer_sizes = (8,), max_iter = 1000000, activation = 'relu', solver = 'sgd', learning_rate_init = 0.01, learning_rate = 'constant')"
   ]
  },
  {
   "cell_type": "code",
   "execution_count": 158,
   "metadata": {},
   "outputs": [
    {
     "data": {
      "text/plain": [
       "MLPClassifier(hidden_layer_sizes=(8,), learning_rate_init=0.01,\n",
       "              max_iter=1000000, solver='sgd')"
      ]
     },
     "execution_count": 158,
     "metadata": {},
     "output_type": "execute_result"
    }
   ],
   "source": [
    "clf.fit(X, Y)"
   ]
  },
  {
   "cell_type": "code",
   "execution_count": 159,
   "metadata": {},
   "outputs": [
    {
     "data": {
      "image/png": "[encoded data removed]",
      "text/plain": [
       "<Figure size 432x288 with 1 Axes>"
      ]
     },
     "metadata": {
      "needs_background": "light"
     },
     "output_type": "display_data"
    }
   ],
   "source": [
    "plot_data(X, Y)\n",
    "plot_surface(clf, X[:, 0], X[:, 1])"
   ]
  },
  {
   "cell_type": "code",
   "execution_count": 160,
   "metadata": {},
   "outputs": [
    {
     "data": {
      "text/plain": [
       "0.8305084745762712"
      ]
     },
     "execution_count": 160,
     "metadata": {},
     "output_type": "execute_result"
    }
   ],
   "source": [
    "accuracy_score(Y, clf.predict(X))"
   ]
  },
  {
   "cell_type": "code",
   "execution_count": 161,
   "metadata": {},
   "outputs": [
    {
     "data": {
      "text/plain": [
       "1473"
      ]
     },
     "execution_count": 161,
     "metadata": {},
     "output_type": "execute_result"
    }
   ],
   "source": [
    "clf.n_iter_"
   ]
  },
  {
   "cell_type": "code",
   "execution_count": null,
   "metadata": {},
   "outputs": [],
   "source": []
  }
 ],
 "metadata": {
  "anaconda-cloud": {},
  "kernelspec": {
   "display_name": "Python 3 (ipykernel)",
   "language": "python",
   "name": "python3"
  },
  "language_info": {
   "codemirror_mode": {
    "name": "ipython",
    "version": 3
   },
   "file_extension": ".py",
   "mimetype": "text/x-python",
   "name": "python",
   "nbconvert_exporter": "python",
   "pygments_lexer": "ipython3",
   "version": "3.9.7"
  }
 },
 "nbformat": 4,
 "nbformat_minor": 1
}
